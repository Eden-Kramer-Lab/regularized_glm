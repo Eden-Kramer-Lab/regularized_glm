{
 "cells": [
  {
   "cell_type": "code",
   "execution_count": 1,
   "metadata": {},
   "outputs": [],
   "source": [
    "%matplotlib inline\n"
   ]
  },
  {
   "cell_type": "code",
   "execution_count": 2,
   "metadata": {},
   "outputs": [
    {
     "name": "stderr",
     "output_type": "stream",
     "text": [
      "/Users/edeno/miniconda3/envs/regularized_glm/lib/python3.6/site-packages/statsmodels/compat/pandas.py:56: FutureWarning: The pandas.core.datetools module is deprecated and will be removed in a future version. Please use the pandas.tseries module instead.\n",
      "  from pandas.core import datetools\n"
     ]
    },
    {
     "data": {
      "text/plain": [
       "array([4.95360974])"
      ]
     },
     "metadata": {},
     "output_type": "display_data"
    },
    {
     "data": {
      "text/plain": [
       "array([4.95360974])"
      ]
     },
     "metadata": {},
     "output_type": "display_data"
    },
    {
     "data": {
      "text/plain": [
       "True"
      ]
     },
     "metadata": {},
     "output_type": "display_data"
    },
    {
     "data": {
      "text/plain": [
       "array([[0.00103656]])"
      ]
     },
     "metadata": {},
     "output_type": "display_data"
    },
    {
     "data": {
      "text/plain": [
       "array([[0.00103656]])"
      ]
     },
     "metadata": {},
     "output_type": "display_data"
    }
   ],
   "source": [
    "import numpy as np\n",
    "import scipy.stats\n",
    "from statsmodels.api import GLM, families\n",
    "from regularized_glm.core import penalized_IRLS\n",
    "\n",
    "n_samples = 1000\n",
    "response = scipy.stats.norm(loc=5).rvs(n_samples)\n",
    "design_matrix = np.ones_like(response)\n",
    "\n",
    "statsmodels_fit = GLM(response, design_matrix).fit()\n",
    "\n",
    "coefficients, is_converged, coefficient_covariance, aic, deviance = penalized_IRLS(\n",
    "    design_matrix, response)\n",
    "\n",
    "\n",
    "display(statsmodels_fit.params)\n",
    "display(coefficients, is_converged)\n",
    "\n",
    "display(statsmodels_fit.cov_params())\n",
    "display(coefficient_covariance)"
   ]
  },
  {
   "cell_type": "code",
   "execution_count": 3,
   "metadata": {},
   "outputs": [
    {
     "data": {
      "text/plain": [
       "array([5.0162338 , 5.00966818])"
      ]
     },
     "metadata": {},
     "output_type": "display_data"
    },
    {
     "data": {
      "text/plain": [
       "array([5.0162338 , 5.00966818])"
      ]
     },
     "metadata": {},
     "output_type": "display_data"
    },
    {
     "data": {
      "text/plain": [
       "True"
      ]
     },
     "metadata": {},
     "output_type": "display_data"
    },
    {
     "data": {
      "text/plain": [
       "array([[ 0.00209916, -0.00209916],\n",
       "       [-0.00209916,  0.00419832]])"
      ]
     },
     "metadata": {},
     "output_type": "display_data"
    },
    {
     "data": {
      "text/plain": [
       "array([[ 0.00209916, -0.00209916],\n",
       "       [-0.00209916,  0.00419832]])"
      ]
     },
     "metadata": {},
     "output_type": "display_data"
    }
   ],
   "source": [
    "n_samples = 1000\n",
    "response = np.concatenate(\n",
    "    (scipy.stats.norm(loc=5).rvs(n_samples // 2),\n",
    "     scipy.stats.norm(loc=10).rvs(n_samples // 2)))\n",
    "design_matrix = np.ones((n_samples, 2))\n",
    "design_matrix[:n_samples // 2, 1] = 0\n",
    "\n",
    "statsmodels_fit = GLM(response, design_matrix).fit()\n",
    "\n",
    "coefficients, is_converged, coefficient_covariance, aic, deviance = penalized_IRLS(\n",
    "    design_matrix, response)\n",
    "\n",
    "\n",
    "display(statsmodels_fit.params)\n",
    "display(coefficients, is_converged)\n",
    "\n",
    "display(statsmodels_fit.cov_params())\n",
    "display(coefficient_covariance)"
   ]
  },
  {
   "cell_type": "code",
   "execution_count": 4,
   "metadata": {},
   "outputs": [
    {
     "data": {
      "text/plain": [
       "array([5.01499203, 4.99738769])"
      ]
     },
     "metadata": {},
     "output_type": "display_data"
    },
    {
     "data": {
      "text/plain": [
       "array([7.51368581e+00, 1.24934689e-07])"
      ]
     },
     "metadata": {},
     "output_type": "display_data"
    },
    {
     "data": {
      "text/plain": [
       "True"
      ]
     },
     "metadata": {},
     "output_type": "display_data"
    },
    {
     "data": {
      "text/plain": [
       "array([[ 0.00192094, -0.00192094],\n",
       "       [-0.00192094,  0.00384188]])"
      ]
     },
     "metadata": {},
     "output_type": "display_data"
    },
    {
     "data": {
      "text/plain": [
       "array([[7.20922995e-03, 7.20923022e-10],\n",
       "       [7.20923022e-10, 9.01153789e-17]])"
      ]
     },
     "metadata": {},
     "output_type": "display_data"
    }
   ],
   "source": [
    "n_samples = 1000\n",
    "response = np.concatenate(\n",
    "    (scipy.stats.norm(loc=5).rvs(n_samples // 2),\n",
    "     scipy.stats.norm(loc=10).rvs(n_samples // 2)))\n",
    "design_matrix = np.ones((n_samples, 2))\n",
    "design_matrix[:n_samples // 2, 1] = 0\n",
    "\n",
    "statsmodels_fit = GLM(response, design_matrix).fit()\n",
    "\n",
    "sqrt_penalty_matrix = np.eye(2)\n",
    "penalty = np.array([0, 1E10])\n",
    "\n",
    "coefficients, is_converged, coefficient_covariance, aic, deviance = penalized_IRLS(\n",
    "    design_matrix, response, penalty=penalty)\n",
    "\n",
    "display(statsmodels_fit.params)\n",
    "display(coefficients, is_converged)\n",
    "\n",
    "display(statsmodels_fit.cov_params())\n",
    "display(coefficient_covariance)"
   ]
  },
  {
   "cell_type": "code",
   "execution_count": 5,
   "metadata": {},
   "outputs": [
    {
     "data": {
      "text/plain": [
       "array([-4.50986001])"
      ]
     },
     "metadata": {},
     "output_type": "display_data"
    },
    {
     "data": {
      "text/plain": [
       "array([-4.50986001])"
      ]
     },
     "metadata": {},
     "output_type": "display_data"
    },
    {
     "data": {
      "text/plain": [
       "True"
      ]
     },
     "metadata": {},
     "output_type": "display_data"
    },
    {
     "data": {
      "text/plain": [
       "array([[0.04545454]])"
      ]
     },
     "metadata": {},
     "output_type": "display_data"
    },
    {
     "data": {
      "text/plain": [
       "array([[0.04545455]])"
      ]
     },
     "metadata": {},
     "output_type": "display_data"
    }
   ],
   "source": [
    "n_samples = 2000\n",
    "rate = np.ones((n_samples,)) * 12\n",
    "sampling_frequency = 1000\n",
    "response = np.random.poisson(rate / sampling_frequency)\n",
    "design_matrix = np.ones_like(response)\n",
    "\n",
    "fam = families.Poisson()\n",
    "statsmodels_fit = GLM(response, design_matrix, family=fam).fit()\n",
    "coefficients, is_converged, coefficient_covariance, aic, deviance = penalized_IRLS(\n",
    "    design_matrix, response, family=fam)\n",
    "\n",
    "display(statsmodels_fit.params)\n",
    "display(coefficients, is_converged)\n",
    "\n",
    "display(statsmodels_fit.cov_params())\n",
    "display(coefficient_covariance)"
   ]
  },
  {
   "cell_type": "code",
   "execution_count": 6,
   "metadata": {},
   "outputs": [
    {
     "data": {
      "text/plain": [
       "array([-4.96184513,  0.45198512])"
      ]
     },
     "metadata": {},
     "output_type": "display_data"
    },
    {
     "data": {
      "text/plain": [
       "array([-4.96184513,  0.45198512])"
      ]
     },
     "metadata": {},
     "output_type": "display_data"
    },
    {
     "data": {
      "text/plain": [
       "True"
      ]
     },
     "metadata": {},
     "output_type": "display_data"
    },
    {
     "data": {
      "text/plain": [
       "array([[ 0.14285714, -0.14285714],\n",
       "       [-0.14285714,  0.23376611]])"
      ]
     },
     "metadata": {},
     "output_type": "display_data"
    },
    {
     "data": {
      "text/plain": [
       "array([[ 0.14285714, -0.14285714],\n",
       "       [-0.14285714,  0.23376623]])"
      ]
     },
     "metadata": {},
     "output_type": "display_data"
    }
   ],
   "source": [
    "n_samples = 2000\n",
    "rate = np.ones((n_samples,)) * 12\n",
    "sampling_frequency = 1000\n",
    "response = np.random.poisson(rate / sampling_frequency)\n",
    "design_matrix = np.ones((n_samples, 2))\n",
    "design_matrix[:n_samples // 2, 1] = 0\n",
    "\n",
    "fam = families.Poisson()\n",
    "statsmodels_fit = GLM(response, design_matrix, family=fam).fit()\n",
    "coefficients, is_converged, coefficient_covariance, aic, deviance = penalized_IRLS(\n",
    "    design_matrix, response, family=fam)\n",
    "\n",
    "display(statsmodels_fit.params)\n",
    "display(coefficients, is_converged)\n",
    "\n",
    "display(statsmodels_fit.cov_params())\n",
    "display(coefficient_covariance)"
   ]
  },
  {
   "cell_type": "code",
   "execution_count": 7,
   "metadata": {},
   "outputs": [
    {
     "data": {
      "text/plain": [
       "array([-4.34280592, -0.61903921])"
      ]
     },
     "metadata": {},
     "output_type": "display_data"
    },
    {
     "data": {
      "text/plain": [
       "array([-4.60367876e+00, -2.98507464e-03])"
      ]
     },
     "metadata": {},
     "output_type": "display_data"
    },
    {
     "data": {
      "text/plain": [
       "True"
      ]
     },
     "metadata": {},
     "output_type": "display_data"
    },
    {
     "data": {
      "text/plain": [
       "array([[ 0.07692299, -0.07692299],\n",
       "       [-0.07692299,  0.21978013]])"
      ]
     },
     "metadata": {},
     "output_type": "display_data"
    },
    {
     "data": {
      "text/plain": [
       "array([[4.99809975e-02, 1.00565394e-03],\n",
       "       [1.00565394e-03, 2.51867306e-05]])"
      ]
     },
     "metadata": {},
     "output_type": "display_data"
    }
   ],
   "source": [
    "n_samples = 2000\n",
    "rate = np.ones((n_samples,)) * 12\n",
    "sampling_frequency = 1000\n",
    "response = np.random.poisson(rate / sampling_frequency)\n",
    "design_matrix = np.ones((n_samples, 2))\n",
    "design_matrix[:n_samples // 2, 1] = 0\n",
    "\n",
    "fam = families.Poisson()\n",
    "statsmodels_fit = GLM(response, design_matrix, family=fam).fit()\n",
    "\n",
    "penalty = np.array([0, 1E3])\n",
    "\n",
    "coefficients, is_converged, coefficient_covariance, aic, deviance = penalized_IRLS(\n",
    "    design_matrix, response, family=fam, penalty=penalty)\n",
    "\n",
    "display(statsmodels_fit.params)\n",
    "display(coefficients, is_converged)\n",
    "\n",
    "display(statsmodels_fit.cov_params())\n",
    "display(coefficient_covariance)"
   ]
  },
  {
   "cell_type": "code",
   "execution_count": null,
   "metadata": {},
   "outputs": [],
   "source": []
  }
 ],
 "metadata": {
  "kernelspec": {
   "display_name": "Python [conda env:regularized_glm]",
   "language": "python",
   "name": "conda-env-regularized_glm-py"
  },
  "language_info": {
   "codemirror_mode": {
    "name": "ipython",
    "version": 3
   },
   "file_extension": ".py",
   "mimetype": "text/x-python",
   "name": "python",
   "nbconvert_exporter": "python",
   "pygments_lexer": "ipython3",
   "version": "3.6.4"
  }
 },
 "nbformat": 4,
 "nbformat_minor": 2
}
