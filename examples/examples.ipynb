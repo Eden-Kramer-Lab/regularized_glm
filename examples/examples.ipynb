{
 "cells": [
  {
   "cell_type": "code",
   "execution_count": 1,
   "metadata": {},
   "outputs": [],
   "source": [
    "%matplotlib inline\n",
    "%reload_ext autoreload\n",
    "%autoreload 2\n",
    "#%qtconsole"
   ]
  },
  {
   "cell_type": "code",
   "execution_count": 2,
   "metadata": {},
   "outputs": [
    {
     "name": "stderr",
     "output_type": "stream",
     "text": [
      "/Users/edeno/miniconda3/envs/regularized_glm/lib/python3.6/site-packages/statsmodels/compat/pandas.py:56: FutureWarning: The pandas.core.datetools module is deprecated and will be removed in a future version. Please use the pandas.tseries module instead.\n",
      "  from pandas.core import datetools\n",
      "/Users/edeno/Documents/GitHub/regularized_glm/regularized_glm/core.py:90: FutureWarning: `rcond` parameter will change to the default of machine precision times ``max(M, N)`` where M and N are the input matrix dimensions.\n",
      "To use the future default and silence this warning we advise to pass `rcond=None`, to keep using the old, explicitly pass `rcond=-1`.\n",
      "  full_response * full_weights)[0]\n"
     ]
    },
    {
     "data": {
      "text/plain": [
       "array([5.03303775])"
      ]
     },
     "metadata": {},
     "output_type": "display_data"
    },
    {
     "data": {
      "text/plain": [
       "array([[5.03303775]])"
      ]
     },
     "metadata": {},
     "output_type": "display_data"
    },
    {
     "data": {
      "text/plain": [
       "True"
      ]
     },
     "metadata": {},
     "output_type": "display_data"
    },
    {
     "data": {
      "text/plain": [
       "array([[0.00097491]])"
      ]
     },
     "metadata": {},
     "output_type": "display_data"
    },
    {
     "data": {
      "text/plain": [
       "array([[0.00097491]])"
      ]
     },
     "metadata": {},
     "output_type": "display_data"
    },
    {
     "data": {
      "text/plain": [
       "2813.4661404523454"
      ]
     },
     "metadata": {},
     "output_type": "display_data"
    },
    {
     "data": {
      "text/plain": [
       "array([2813.46614045])"
      ]
     },
     "metadata": {},
     "output_type": "display_data"
    },
    {
     "data": {
      "text/plain": [
       "0.9749097019835102"
      ]
     },
     "metadata": {},
     "output_type": "display_data"
    },
    {
     "data": {
      "text/plain": [
       "0.9749097019835102"
      ]
     },
     "metadata": {},
     "output_type": "display_data"
    }
   ],
   "source": [
    "import numpy as np\n",
    "import scipy.stats\n",
    "from statsmodels.api import GLM, families\n",
    "from regularized_glm.core import penalized_IRLS\n",
    "\n",
    "n_samples = 1000\n",
    "response = scipy.stats.norm(loc=5).rvs(n_samples)\n",
    "design_matrix = np.ones_like(response)\n",
    "\n",
    "statsmodels_fit = GLM(response, design_matrix).fit()\n",
    "\n",
    "(coefficients, is_converged, coefficient_covariance, aic, deviance,\n",
    " effective_degrees_of_freedom, scale) = penalized_IRLS(design_matrix, response)\n",
    "\n",
    "\n",
    "display(statsmodels_fit.params)\n",
    "display(coefficients, is_converged)\n",
    "\n",
    "display(statsmodels_fit.cov_params())\n",
    "display(coefficient_covariance)\n",
    "\n",
    "display(statsmodels_fit.aic)\n",
    "display(aic)\n",
    "\n",
    "display(statsmodels_fit.scale)\n",
    "display(scale)"
   ]
  },
  {
   "cell_type": "code",
   "execution_count": 3,
   "metadata": {},
   "outputs": [
    {
     "name": "stderr",
     "output_type": "stream",
     "text": [
      "/Users/edeno/Documents/GitHub/regularized_glm/regularized_glm/core.py:90: FutureWarning: `rcond` parameter will change to the default of machine precision times ``max(M, N)`` where M and N are the input matrix dimensions.\n",
      "To use the future default and silence this warning we advise to pass `rcond=None`, to keep using the old, explicitly pass `rcond=-1`.\n",
      "  full_response * full_weights)[0]\n"
     ]
    },
    {
     "data": {
      "text/plain": [
       "array([4.94690843, 5.06697579])"
      ]
     },
     "metadata": {},
     "output_type": "display_data"
    },
    {
     "data": {
      "text/plain": [
       "array([[4.94690843],\n",
       "       [5.06697579]])"
      ]
     },
     "metadata": {},
     "output_type": "display_data"
    },
    {
     "data": {
      "text/plain": [
       "True"
      ]
     },
     "metadata": {},
     "output_type": "display_data"
    },
    {
     "data": {
      "text/plain": [
       "array([[ 0.00197756, -0.00197756],\n",
       "       [-0.00197756,  0.00395512]])"
      ]
     },
     "metadata": {},
     "output_type": "display_data"
    },
    {
     "data": {
      "text/plain": [
       "array([[ 0.00197756, -0.00197756],\n",
       "       [-0.00197756,  0.00395512]])"
      ]
     },
     "metadata": {},
     "output_type": "display_data"
    },
    {
     "data": {
      "text/plain": [
       "2828.5907319567946"
      ]
     },
     "metadata": {},
     "output_type": "display_data"
    },
    {
     "data": {
      "text/plain": [
       "array([2828.59073196])"
      ]
     },
     "metadata": {},
     "output_type": "display_data"
    },
    {
     "data": {
      "text/plain": [
       "0.988779097480203"
      ]
     },
     "metadata": {},
     "output_type": "display_data"
    },
    {
     "data": {
      "text/plain": [
       "0.9887790974802029"
      ]
     },
     "metadata": {},
     "output_type": "display_data"
    }
   ],
   "source": [
    "n_samples = 1000\n",
    "response = np.concatenate(\n",
    "    (scipy.stats.norm(loc=5).rvs(n_samples // 2),\n",
    "     scipy.stats.norm(loc=10).rvs(n_samples // 2)))\n",
    "design_matrix = np.ones((n_samples, 2))\n",
    "design_matrix[:n_samples // 2, 1] = 0\n",
    "\n",
    "statsmodels_fit = GLM(response, design_matrix).fit()\n",
    "\n",
    "(coefficients, is_converged, coefficient_covariance, aic, deviance,\n",
    " effective_degrees_of_freedom, scale) = penalized_IRLS(design_matrix, response)\n",
    "\n",
    "\n",
    "display(statsmodels_fit.params)\n",
    "display(coefficients, is_converged)\n",
    "\n",
    "display(statsmodels_fit.cov_params())\n",
    "display(coefficient_covariance)\n",
    "\n",
    "display(statsmodels_fit.aic)\n",
    "display(aic)\n",
    "\n",
    "display(statsmodels_fit.scale)\n",
    "display(scale)"
   ]
  },
  {
   "cell_type": "code",
   "execution_count": 4,
   "metadata": {},
   "outputs": [
    {
     "name": "stderr",
     "output_type": "stream",
     "text": [
      "/Users/edeno/Documents/GitHub/regularized_glm/regularized_glm/core.py:90: FutureWarning: `rcond` parameter will change to the default of machine precision times ``max(M, N)`` where M and N are the input matrix dimensions.\n",
      "To use the future default and silence this warning we advise to pass `rcond=None`, to keep using the old, explicitly pass `rcond=-1`.\n",
      "  full_response * full_weights)[0]\n"
     ]
    },
    {
     "data": {
      "text/plain": [
       "array([5.03735361, 4.97927711])"
      ]
     },
     "metadata": {},
     "output_type": "display_data"
    },
    {
     "data": {
      "text/plain": [
       "array([[7.52699210e+00],\n",
       "       [1.24481925e-07]])"
      ]
     },
     "metadata": {},
     "output_type": "display_data"
    },
    {
     "data": {
      "text/plain": [
       "True"
      ]
     },
     "metadata": {},
     "output_type": "display_data"
    },
    {
     "data": {
      "text/plain": [
       "array([[ 0.00196334, -0.00196334],\n",
       "       [-0.00196334,  0.00392667]])"
      ]
     },
     "metadata": {},
     "output_type": "display_data"
    },
    {
     "data": {
      "text/plain": [
       "array([[7.18518926e-03, 7.18518953e-10],\n",
       "       [7.18518953e-10, 8.98148702e-17]])"
      ]
     },
     "metadata": {},
     "output_type": "display_data"
    },
    {
     "data": {
      "text/plain": [
       "2821.3725333454327"
      ]
     },
     "metadata": {},
     "output_type": "display_data"
    },
    {
     "data": {
      "text/plain": [
       "array([4810.89842621])"
      ]
     },
     "metadata": {},
     "output_type": "display_data"
    },
    {
     "data": {
      "text/plain": [
       "0.9816675905836137"
      ]
     },
     "metadata": {},
     "output_type": "display_data"
    },
    {
     "data": {
      "text/plain": [
       "7.185189259554209"
      ]
     },
     "metadata": {},
     "output_type": "display_data"
    }
   ],
   "source": [
    "n_samples = 1000\n",
    "response = np.concatenate(\n",
    "    (scipy.stats.norm(loc=5).rvs(n_samples // 2),\n",
    "     scipy.stats.norm(loc=10).rvs(n_samples // 2)))\n",
    "design_matrix = np.ones((n_samples, 2))\n",
    "design_matrix[:n_samples // 2, 1] = 0\n",
    "\n",
    "statsmodels_fit = GLM(response, design_matrix).fit()\n",
    "\n",
    "sqrt_penalty_matrix = np.eye(2)\n",
    "penalty = np.array([0, 1E10])\n",
    "\n",
    "(coefficients, is_converged, coefficient_covariance, aic, deviance,\n",
    " effective_degrees_of_freedom, scale) = penalized_IRLS(\n",
    "    design_matrix, response, penalty=penalty)\n",
    "\n",
    "display(statsmodels_fit.params)\n",
    "display(coefficients, is_converged)\n",
    "\n",
    "display(statsmodels_fit.cov_params())\n",
    "display(coefficient_covariance)\n",
    "\n",
    "display(statsmodels_fit.aic)\n",
    "display(aic)\n",
    "\n",
    "display(statsmodels_fit.scale)\n",
    "display(scale)"
   ]
  },
  {
   "cell_type": "code",
   "execution_count": 5,
   "metadata": {},
   "outputs": [
    {
     "name": "stderr",
     "output_type": "stream",
     "text": [
      "/Users/edeno/Documents/GitHub/regularized_glm/regularized_glm/core.py:90: FutureWarning: `rcond` parameter will change to the default of machine precision times ``max(M, N)`` where M and N are the input matrix dimensions.\n",
      "To use the future default and silence this warning we advise to pass `rcond=None`, to keep using the old, explicitly pass `rcond=-1`.\n",
      "  full_response * full_weights)[0]\n"
     ]
    },
    {
     "data": {
      "text/plain": [
       "array([-4.26869795])"
      ]
     },
     "metadata": {},
     "output_type": "display_data"
    },
    {
     "data": {
      "text/plain": [
       "array([[-4.26869795]])"
      ]
     },
     "metadata": {},
     "output_type": "display_data"
    },
    {
     "data": {
      "text/plain": [
       "True"
      ]
     },
     "metadata": {},
     "output_type": "display_data"
    },
    {
     "data": {
      "text/plain": [
       "array([[0.03571429]])"
      ]
     },
     "metadata": {},
     "output_type": "display_data"
    },
    {
     "data": {
      "text/plain": [
       "array([[0.03571429]])"
      ]
     },
     "metadata": {},
     "output_type": "display_data"
    },
    {
     "data": {
      "text/plain": [
       "297.04708516454525"
      ]
     },
     "metadata": {},
     "output_type": "display_data"
    },
    {
     "data": {
      "text/plain": [
       "297.04708516454514"
      ]
     },
     "metadata": {},
     "output_type": "display_data"
    },
    {
     "data": {
      "text/plain": [
       "1.0"
      ]
     },
     "metadata": {},
     "output_type": "display_data"
    },
    {
     "data": {
      "text/plain": [
       "1.0"
      ]
     },
     "metadata": {},
     "output_type": "display_data"
    }
   ],
   "source": [
    "n_samples = 2000\n",
    "rate = np.ones((n_samples,)) * 12\n",
    "sampling_frequency = 1000\n",
    "response = np.random.poisson(rate / sampling_frequency)\n",
    "design_matrix = np.ones_like(response)\n",
    "\n",
    "fam = families.Poisson()\n",
    "statsmodels_fit = GLM(response, design_matrix, family=fam).fit()\n",
    "(coefficients, is_converged, coefficient_covariance, aic, deviance,\n",
    " effective_degrees_of_freedom, scale) = penalized_IRLS(\n",
    "    design_matrix, response, family=fam)\n",
    "\n",
    "display(statsmodels_fit.params)\n",
    "display(coefficients, is_converged)\n",
    "\n",
    "display(statsmodels_fit.cov_params())\n",
    "display(coefficient_covariance)\n",
    "\n",
    "display(statsmodels_fit.aic)\n",
    "display(aic)\n",
    "\n",
    "display(statsmodels_fit.scale)\n",
    "display(scale)"
   ]
  },
  {
   "cell_type": "code",
   "execution_count": 6,
   "metadata": {},
   "outputs": [
    {
     "name": "stderr",
     "output_type": "stream",
     "text": [
      "/Users/edeno/Documents/GitHub/regularized_glm/regularized_glm/core.py:90: FutureWarning: `rcond` parameter will change to the default of machine precision times ``max(M, N)`` where M and N are the input matrix dimensions.\n",
      "To use the future default and silence this warning we advise to pass `rcond=None`, to keep using the old, explicitly pass `rcond=-1`.\n",
      "  full_response * full_weights)[0]\n"
     ]
    },
    {
     "data": {
      "text/plain": [
       "array([-4.34280592, -0.08004271])"
      ]
     },
     "metadata": {},
     "output_type": "display_data"
    },
    {
     "data": {
      "text/plain": [
       "array([[-4.34280592],\n",
       "       [-0.08004271]])"
      ]
     },
     "metadata": {},
     "output_type": "display_data"
    },
    {
     "data": {
      "text/plain": [
       "True"
      ]
     },
     "metadata": {},
     "output_type": "display_data"
    },
    {
     "data": {
      "text/plain": [
       "array([[ 0.07692307, -0.07692307],\n",
       "       [-0.07692307,  0.1602564 ]])"
      ]
     },
     "metadata": {},
     "output_type": "display_data"
    },
    {
     "data": {
      "text/plain": [
       "array([[ 0.07692308, -0.07692308],\n",
       "       [-0.07692308,  0.16025641]])"
      ]
     },
     "metadata": {},
     "output_type": "display_data"
    },
    {
     "data": {
      "text/plain": [
       "273.0613210601948"
      ]
     },
     "metadata": {},
     "output_type": "display_data"
    },
    {
     "data": {
      "text/plain": [
       "273.0613210601949"
      ]
     },
     "metadata": {},
     "output_type": "display_data"
    },
    {
     "data": {
      "text/plain": [
       "1.0"
      ]
     },
     "metadata": {},
     "output_type": "display_data"
    },
    {
     "data": {
      "text/plain": [
       "1.0"
      ]
     },
     "metadata": {},
     "output_type": "display_data"
    }
   ],
   "source": [
    "n_samples = 2000\n",
    "rate = np.ones((n_samples,)) * 12\n",
    "sampling_frequency = 1000\n",
    "response = np.random.poisson(rate / sampling_frequency)\n",
    "design_matrix = np.ones((n_samples, 2))\n",
    "design_matrix[:n_samples // 2, 1] = 0\n",
    "\n",
    "fam = families.Poisson()\n",
    "statsmodels_fit = GLM(response, design_matrix, family=fam).fit()\n",
    "(coefficients, is_converged, coefficient_covariance, aic, deviance,\n",
    " effective_degrees_of_freedom, scale) = penalized_IRLS(\n",
    "    design_matrix, response, family=fam)\n",
    "\n",
    "display(statsmodels_fit.params)\n",
    "display(coefficients, is_converged)\n",
    "\n",
    "display(statsmodels_fit.cov_params())\n",
    "display(coefficient_covariance)\n",
    "\n",
    "display(statsmodels_fit.aic)\n",
    "display(aic)\n",
    "\n",
    "display(statsmodels_fit.scale)\n",
    "display(scale)"
   ]
  },
  {
   "cell_type": "code",
   "execution_count": 7,
   "metadata": {},
   "outputs": [
    {
     "name": "stderr",
     "output_type": "stream",
     "text": [
      "/Users/edeno/Documents/GitHub/regularized_glm/regularized_glm/core.py:90: FutureWarning: `rcond` parameter will change to the default of machine precision times ``max(M, N)`` where M and N are the input matrix dimensions.\n",
      "To use the future default and silence this warning we advise to pass `rcond=None`, to keep using the old, explicitly pass `rcond=-1`.\n",
      "  full_response * full_weights)[0]\n"
     ]
    },
    {
     "data": {
      "text/plain": [
       "array([-4.60517019,  0.26236426])"
      ]
     },
     "metadata": {},
     "output_type": "display_data"
    },
    {
     "data": {
      "text/plain": [
       "array([[-4.46615423e+00],\n",
       "       [ 1.49142431e-03]])"
      ]
     },
     "metadata": {},
     "output_type": "display_data"
    },
    {
     "data": {
      "text/plain": [
       "True"
      ]
     },
     "metadata": {},
     "output_type": "display_data"
    },
    {
     "data": {
      "text/plain": [
       "array([[ 0.1       , -0.1       ],\n",
       "       [-0.1       ,  0.17692306]])"
      ]
     },
     "metadata": {},
     "output_type": "display_data"
    },
    {
     "data": {
      "text/plain": [
       "array([[4.34562586e-02, 1.00889038e-03],\n",
       "       [1.00889038e-03, 2.91099443e-05]])"
      ]
     },
     "metadata": {},
     "output_type": "display_data"
    },
    {
     "data": {
      "text/plain": [
       "255.01635767929736"
      ]
     },
     "metadata": {},
     "output_type": "display_data"
    },
    {
     "data": {
      "text/plain": [
       "253.41575196997354"
      ]
     },
     "metadata": {},
     "output_type": "display_data"
    },
    {
     "data": {
      "text/plain": [
       "1.0"
      ]
     },
     "metadata": {},
     "output_type": "display_data"
    },
    {
     "data": {
      "text/plain": [
       "1.0"
      ]
     },
     "metadata": {},
     "output_type": "display_data"
    }
   ],
   "source": [
    "n_samples = 2000\n",
    "rate = np.ones((n_samples,)) * 12\n",
    "sampling_frequency = 1000\n",
    "response = np.random.poisson(rate / sampling_frequency)\n",
    "design_matrix = np.ones((n_samples, 2))\n",
    "design_matrix[:n_samples // 2, 1] = 0\n",
    "\n",
    "fam = families.Poisson()\n",
    "statsmodels_fit = GLM(response, design_matrix, family=fam).fit()\n",
    "\n",
    "penalty = np.array([0, 1E3])\n",
    "\n",
    "(coefficients, is_converged, coefficient_covariance, aic, deviance,\n",
    " effective_degrees_of_freedom, scale) = penalized_IRLS(\n",
    "    design_matrix, response, family=fam, penalty=penalty)\n",
    "\n",
    "display(statsmodels_fit.params)\n",
    "display(coefficients, is_converged)\n",
    "\n",
    "display(statsmodels_fit.cov_params())\n",
    "display(coefficient_covariance)\n",
    "\n",
    "display(statsmodels_fit.aic)\n",
    "display(aic)\n",
    "\n",
    "display(statsmodels_fit.scale)\n",
    "display(scale)"
   ]
  },
  {
   "cell_type": "code",
   "execution_count": 8,
   "metadata": {},
   "outputs": [],
   "source": [
    "def simulate_time(n_samples, sampling_frequency):\n",
    "    return np.arange(n_samples) / sampling_frequency\n",
    "\n",
    "\n",
    "def simulate_linear_distance(time, track_height, running_speed=10):\n",
    "    half_height = (track_height / 2)\n",
    "    return (half_height * np.sin(2 * np.pi * time / running_speed - np.pi / 2)\n",
    "            + half_height)\n",
    "\n",
    "def simulate_poisson_spikes(rate, sampling_frequency):\n",
    "    return 1.0 * (np.random.poisson(rate / sampling_frequency) > 0)\n",
    "\n",
    "\n",
    "def create_place_field(\n",
    "    place_field_mean, linear_distance, sampling_frequency, is_condition=None,\n",
    "        place_field_std_deviation=12.5, max_firing_rate=20,\n",
    "        baseline_firing_rate=0.5):\n",
    "    if is_condition is None:\n",
    "        is_condition = np.ones_like(linear_distance, dtype=bool)\n",
    "    field_firing_rate = scipy.stats.norm(\n",
    "        place_field_mean, place_field_std_deviation).pdf(linear_distance)\n",
    "    field_firing_rate /= field_firing_rate.max()\n",
    "    field_firing_rate[~is_condition] = 0\n",
    "    return baseline_firing_rate + max_firing_rate * field_firing_rate"
   ]
  },
  {
   "cell_type": "code",
   "execution_count": 9,
   "metadata": {},
   "outputs": [],
   "source": [
    "from patsy import build_design_matrices, dmatrices, dmatrix\n",
    "\n",
    "track_height = 170\n",
    "n_samples = sampling_frequency * 65\n",
    "\n",
    "time = simulate_time(n_samples, sampling_frequency)\n",
    "linear_distance = simulate_linear_distance(\n",
    "    time, track_height)\n",
    "\n",
    "place_fields = create_place_field(\n",
    "    100, linear_distance, sampling_frequency)\n",
    "spikes = simulate_poisson_spikes(place_fields, sampling_frequency).T\n",
    "\n",
    "knot_spacing = 15\n",
    "\n",
    "min_distance, max_distance = (linear_distance.min(),\n",
    "                              linear_distance.max())\n",
    "n_steps = (max_distance - min_distance) // knot_spacing\n",
    "position_knots = min_distance + np.arange(1, n_steps) * knot_spacing\n",
    "formula = ('is_spike ~ 1 + cr(linear_distance, knots=position_knots,'\n",
    "           ' constraints=\"center\")')\n",
    "\n",
    "data = {\n",
    "    'is_spike': spikes,\n",
    "    'linear_distance': linear_distance\n",
    "}\n",
    "response, design_matrix = dmatrices(formula, data)\n"
   ]
  },
  {
   "cell_type": "code",
   "execution_count": 10,
   "metadata": {},
   "outputs": [
    {
     "name": "stderr",
     "output_type": "stream",
     "text": [
      "/Users/edeno/Documents/GitHub/regularized_glm/regularized_glm/core.py:90: FutureWarning: `rcond` parameter will change to the default of machine precision times ``max(M, N)`` where M and N are the input matrix dimensions.\n",
      "To use the future default and silence this warning we advise to pass `rcond=None`, to keep using the old, explicitly pass `rcond=-1`.\n",
      "  full_response * full_weights)[0]\n"
     ]
    },
    {
     "name": "stdout",
     "output_type": "stream",
     "text": [
      "120 ms ± 13.8 ms per loop (mean ± std. dev. of 7 runs, 10 loops each)\n"
     ]
    }
   ],
   "source": [
    "%%timeit\n",
    "\n",
    "penalty = np.ones((design_matrix.shape[1],)) * 1E1\n",
    "penalty[0] = 0.0\n",
    "\n",
    "(coefficients, is_converged, coefficient_covariance, aic, deviance,\n",
    " effective_degrees_of_freedom, scale) = penalized_IRLS(\n",
    "    design_matrix, response, family=families.Poisson(), penalty=penalty)"
   ]
  },
  {
   "cell_type": "code",
   "execution_count": 11,
   "metadata": {},
   "outputs": [
    {
     "name": "stdout",
     "output_type": "stream",
     "text": [
      "2.22 s ± 171 ms per loop (mean ± std. dev. of 7 runs, 1 loop each)\n"
     ]
    }
   ],
   "source": [
    "%%timeit\n",
    "\n",
    "model = GLM(response, design_matrix, family=families.Poisson())\n",
    "\n",
    "penalty = np.ones((design_matrix.shape[1],)) * 1E1\n",
    "penalty[0] = 0.0\n",
    "fit = model.fit_regularized(alpha=penalty, L1_wt=0,\n",
    "                            maxiter=25)"
   ]
  },
  {
   "cell_type": "code",
   "execution_count": 12,
   "metadata": {},
   "outputs": [
    {
     "name": "stderr",
     "output_type": "stream",
     "text": [
      "/Users/edeno/Documents/GitHub/regularized_glm/regularized_glm/core.py:81: RuntimeWarning: divide by zero encountered in true_divide\n",
      "  * link_derivative ** 2)\n",
      "/Users/edeno/Documents/GitHub/regularized_glm/regularized_glm/core.py:90: FutureWarning: `rcond` parameter will change to the default of machine precision times ``max(M, N)`` where M and N are the input matrix dimensions.\n",
      "To use the future default and silence this warning we advise to pass `rcond=None`, to keep using the old, explicitly pass `rcond=-1`.\n",
      "  full_response * full_weights)[0]\n",
      "/Users/edeno/miniconda3/envs/regularized_glm/lib/python3.6/site-packages/statsmodels/genmod/families/family.py:371: RuntimeWarning: invalid value encountered in true_divide\n",
      "  endog_mu = self._clean(endog / mu)\n",
      "/Users/edeno/miniconda3/envs/regularized_glm/lib/python3.6/site-packages/statsmodels/genmod/families/family.py:404: RuntimeWarning: divide by zero encountered in log\n",
      "  loglike = np.sum(freq_weights * (endog * np.log(mu) - mu -\n",
      "/Users/edeno/miniconda3/envs/regularized_glm/lib/python3.6/site-packages/statsmodels/genmod/families/family.py:404: RuntimeWarning: invalid value encountered in multiply\n",
      "  loglike = np.sum(freq_weights * (endog * np.log(mu) - mu -\n"
     ]
    }
   ],
   "source": [
    "penalty = np.ones((design_matrix.shape[1],)) * 1E1\n",
    "penalty[0] = 0.0\n",
    "\n",
    "(coefficients, is_converged, coefficient_covariance, aic, deviance,\n",
    " effective_degrees_of_freedom, scale) = penalized_IRLS(\n",
    "    design_matrix, response * 0.0, family=families.Poisson(), penalty=penalty)"
   ]
  },
  {
   "cell_type": "code",
   "execution_count": null,
   "metadata": {},
   "outputs": [],
   "source": []
  }
 ],
 "metadata": {
  "kernelspec": {
   "display_name": "Python [conda env:regularized_glm]",
   "language": "python",
   "name": "conda-env-regularized_glm-py"
  },
  "language_info": {
   "codemirror_mode": {
    "name": "ipython",
    "version": 3
   },
   "file_extension": ".py",
   "mimetype": "text/x-python",
   "name": "python",
   "nbconvert_exporter": "python",
   "pygments_lexer": "ipython3",
   "version": "3.6.4"
  }
 },
 "nbformat": 4,
 "nbformat_minor": 2
}
