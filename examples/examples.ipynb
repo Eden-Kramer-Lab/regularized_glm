{
 "cells": [
  {
   "cell_type": "code",
   "execution_count": 1,
   "metadata": {},
   "outputs": [],
   "source": [
    "%matplotlib inline\n",
    "#%qtconsole"
   ]
  },
  {
   "cell_type": "code",
   "execution_count": 2,
   "metadata": {},
   "outputs": [
    {
     "name": "stderr",
     "output_type": "stream",
     "text": [
      "/Users/edeno/miniconda3/envs/regularized_glm/lib/python3.6/site-packages/statsmodels/compat/pandas.py:56: FutureWarning: The pandas.core.datetools module is deprecated and will be removed in a future version. Please use the pandas.tseries module instead.\n",
      "  from pandas.core import datetools\n"
     ]
    },
    {
     "data": {
      "text/plain": [
       "array([5.00448263])"
      ]
     },
     "metadata": {},
     "output_type": "display_data"
    },
    {
     "data": {
      "text/plain": [
       "array([5.00448263])"
      ]
     },
     "metadata": {},
     "output_type": "display_data"
    },
    {
     "data": {
      "text/plain": [
       "True"
      ]
     },
     "metadata": {},
     "output_type": "display_data"
    },
    {
     "data": {
      "text/plain": [
       "array([[0.00094571]])"
      ]
     },
     "metadata": {},
     "output_type": "display_data"
    },
    {
     "data": {
      "text/plain": [
       "array([[0.00094571]])"
      ]
     },
     "metadata": {},
     "output_type": "display_data"
    },
    {
     "data": {
      "text/plain": [
       "2783.059113039942"
      ]
     },
     "metadata": {},
     "output_type": "display_data"
    },
    {
     "data": {
      "text/plain": [
       "2783.059113039942"
      ]
     },
     "metadata": {},
     "output_type": "display_data"
    },
    {
     "data": {
      "text/plain": [
       "0.9457117569444125"
      ]
     },
     "metadata": {},
     "output_type": "display_data"
    },
    {
     "data": {
      "text/plain": [
       "0.9457117569444125"
      ]
     },
     "metadata": {},
     "output_type": "display_data"
    }
   ],
   "source": [
    "import numpy as np\n",
    "import scipy.stats\n",
    "from statsmodels.api import GLM, families\n",
    "from regularized_glm.core import penalized_IRLS\n",
    "\n",
    "n_samples = 1000\n",
    "response = scipy.stats.norm(loc=5).rvs(n_samples)\n",
    "design_matrix = np.ones_like(response)\n",
    "\n",
    "statsmodels_fit = GLM(response, design_matrix).fit()\n",
    "\n",
    "(coefficients, is_converged, coefficient_covariance, aic, deviance,\n",
    " effective_degrees_of_freedom, scale) = penalized_IRLS(design_matrix, response)\n",
    "\n",
    "\n",
    "display(statsmodels_fit.params)\n",
    "display(coefficients, is_converged)\n",
    "\n",
    "display(statsmodels_fit.cov_params())\n",
    "display(coefficient_covariance)\n",
    "\n",
    "display(statsmodels_fit.aic)\n",
    "display(aic)\n",
    "\n",
    "display(statsmodels_fit.scale)\n",
    "display(scale)"
   ]
  },
  {
   "cell_type": "code",
   "execution_count": 3,
   "metadata": {},
   "outputs": [
    {
     "data": {
      "text/plain": [
       "array([4.90899891, 5.08485492])"
      ]
     },
     "metadata": {},
     "output_type": "display_data"
    },
    {
     "data": {
      "text/plain": [
       "array([4.90899891, 5.08485492])"
      ]
     },
     "metadata": {},
     "output_type": "display_data"
    },
    {
     "data": {
      "text/plain": [
       "True"
      ]
     },
     "metadata": {},
     "output_type": "display_data"
    },
    {
     "data": {
      "text/plain": [
       "array([[ 0.00221295, -0.00221295],\n",
       "       [-0.00221295,  0.00442589]])"
      ]
     },
     "metadata": {},
     "output_type": "display_data"
    },
    {
     "data": {
      "text/plain": [
       "array([[ 0.00221295, -0.00221295],\n",
       "       [-0.00221295,  0.00442589]])"
      ]
     },
     "metadata": {},
     "output_type": "display_data"
    },
    {
     "data": {
      "text/plain": [
       "2941.0526576556263"
      ]
     },
     "metadata": {},
     "output_type": "display_data"
    },
    {
     "data": {
      "text/plain": [
       "2941.0526576556263"
      ]
     },
     "metadata": {},
     "output_type": "display_data"
    },
    {
     "data": {
      "text/plain": [
       "1.1064731272122632"
      ]
     },
     "metadata": {},
     "output_type": "display_data"
    },
    {
     "data": {
      "text/plain": [
       "1.1064731272122632"
      ]
     },
     "metadata": {},
     "output_type": "display_data"
    }
   ],
   "source": [
    "n_samples = 1000\n",
    "response = np.concatenate(\n",
    "    (scipy.stats.norm(loc=5).rvs(n_samples // 2),\n",
    "     scipy.stats.norm(loc=10).rvs(n_samples // 2)))\n",
    "design_matrix = np.ones((n_samples, 2))\n",
    "design_matrix[:n_samples // 2, 1] = 0\n",
    "\n",
    "statsmodels_fit = GLM(response, design_matrix).fit()\n",
    "\n",
    "(coefficients, is_converged, coefficient_covariance, aic, deviance,\n",
    " effective_degrees_of_freedom, scale) = penalized_IRLS(design_matrix, response)\n",
    "\n",
    "\n",
    "display(statsmodels_fit.params)\n",
    "display(coefficients, is_converged)\n",
    "\n",
    "display(statsmodels_fit.cov_params())\n",
    "display(coefficient_covariance)\n",
    "\n",
    "display(statsmodels_fit.aic)\n",
    "display(aic)\n",
    "\n",
    "display(statsmodels_fit.scale)\n",
    "display(scale)"
   ]
  },
  {
   "cell_type": "code",
   "execution_count": 4,
   "metadata": {},
   "outputs": [
    {
     "data": {
      "text/plain": [
       "array([4.98118344, 5.00389907])"
      ]
     },
     "metadata": {},
     "output_type": "display_data"
    },
    {
     "data": {
      "text/plain": [
       "array([7.48313291e+00, 1.25097474e-07])"
      ]
     },
     "metadata": {},
     "output_type": "display_data"
    },
    {
     "data": {
      "text/plain": [
       "True"
      ]
     },
     "metadata": {},
     "output_type": "display_data"
    },
    {
     "data": {
      "text/plain": [
       "array([[ 0.00191399, -0.00191399],\n",
       "       [-0.00191399,  0.00382798]])"
      ]
     },
     "metadata": {},
     "output_type": "display_data"
    },
    {
     "data": {
      "text/plain": [
       "array([[7.22205394e-03, 7.22205421e-10],\n",
       "       [7.22205421e-10, 9.02756788e-17]])"
      ]
     },
     "metadata": {},
     "output_type": "display_data"
    },
    {
     "data": {
      "text/plain": [
       "2795.917658547763"
      ]
     },
     "metadata": {},
     "output_type": "display_data"
    },
    {
     "data": {
      "text/plain": [
       "4816.015958120528"
      ]
     },
     "metadata": {},
     "output_type": "display_data"
    },
    {
     "data": {
      "text/plain": [
       "0.9569947196122957"
      ]
     },
     "metadata": {},
     "output_type": "display_data"
    },
    {
     "data": {
      "text/plain": [
       "7.222053942507659"
      ]
     },
     "metadata": {},
     "output_type": "display_data"
    }
   ],
   "source": [
    "n_samples = 1000\n",
    "response = np.concatenate(\n",
    "    (scipy.stats.norm(loc=5).rvs(n_samples // 2),\n",
    "     scipy.stats.norm(loc=10).rvs(n_samples // 2)))\n",
    "design_matrix = np.ones((n_samples, 2))\n",
    "design_matrix[:n_samples // 2, 1] = 0\n",
    "\n",
    "statsmodels_fit = GLM(response, design_matrix).fit()\n",
    "\n",
    "sqrt_penalty_matrix = np.eye(2)\n",
    "penalty = np.array([0, 1E10])\n",
    "\n",
    "(coefficients, is_converged, coefficient_covariance, aic, deviance,\n",
    " effective_degrees_of_freedom, scale) = penalized_IRLS(\n",
    "    design_matrix, response, penalty=penalty)\n",
    "\n",
    "display(statsmodels_fit.params)\n",
    "display(coefficients, is_converged)\n",
    "\n",
    "display(statsmodels_fit.cov_params())\n",
    "display(coefficient_covariance)\n",
    "\n",
    "display(statsmodels_fit.aic)\n",
    "display(aic)\n",
    "\n",
    "display(statsmodels_fit.scale)\n",
    "display(scale)"
   ]
  },
  {
   "cell_type": "code",
   "execution_count": 5,
   "metadata": {},
   "outputs": [
    {
     "data": {
      "text/plain": [
       "array([-4.42284863])"
      ]
     },
     "metadata": {},
     "output_type": "display_data"
    },
    {
     "data": {
      "text/plain": [
       "array([-4.42284863])"
      ]
     },
     "metadata": {},
     "output_type": "display_data"
    },
    {
     "data": {
      "text/plain": [
       "True"
      ]
     },
     "metadata": {},
     "output_type": "display_data"
    },
    {
     "data": {
      "text/plain": [
       "array([[0.04166666]])"
      ]
     },
     "metadata": {},
     "output_type": "display_data"
    },
    {
     "data": {
      "text/plain": [
       "array([[0.04166667]])"
      ]
     },
     "metadata": {},
     "output_type": "display_data"
    },
    {
     "data": {
      "text/plain": [
       "262.2967342013187"
      ]
     },
     "metadata": {},
     "output_type": "display_data"
    },
    {
     "data": {
      "text/plain": [
       "262.2967342013185"
      ]
     },
     "metadata": {},
     "output_type": "display_data"
    },
    {
     "data": {
      "text/plain": [
       "1.0"
      ]
     },
     "metadata": {},
     "output_type": "display_data"
    },
    {
     "data": {
      "text/plain": [
       "1.0"
      ]
     },
     "metadata": {},
     "output_type": "display_data"
    }
   ],
   "source": [
    "n_samples = 2000\n",
    "rate = np.ones((n_samples,)) * 12\n",
    "sampling_frequency = 1000\n",
    "response = np.random.poisson(rate / sampling_frequency)\n",
    "design_matrix = np.ones_like(response)\n",
    "\n",
    "fam = families.Poisson()\n",
    "statsmodels_fit = GLM(response, design_matrix, family=fam).fit()\n",
    "(coefficients, is_converged, coefficient_covariance, aic, deviance,\n",
    " effective_degrees_of_freedom, scale) = penalized_IRLS(\n",
    "    design_matrix, response, family=fam)\n",
    "\n",
    "display(statsmodels_fit.params)\n",
    "display(coefficients, is_converged)\n",
    "\n",
    "display(statsmodels_fit.cov_params())\n",
    "display(coefficient_covariance)\n",
    "\n",
    "display(statsmodels_fit.aic)\n",
    "display(aic)\n",
    "\n",
    "display(statsmodels_fit.scale)\n",
    "display(scale)"
   ]
  },
  {
   "cell_type": "code",
   "execution_count": 6,
   "metadata": {},
   "outputs": [
    {
     "data": {
      "text/plain": [
       "array([-4.34280592,  0.07410797])"
      ]
     },
     "metadata": {},
     "output_type": "display_data"
    },
    {
     "data": {
      "text/plain": [
       "array([-4.34280592,  0.07410797])"
      ]
     },
     "metadata": {},
     "output_type": "display_data"
    },
    {
     "data": {
      "text/plain": [
       "True"
      ]
     },
     "metadata": {},
     "output_type": "display_data"
    },
    {
     "data": {
      "text/plain": [
       "array([[ 0.07692308, -0.07692308],\n",
       "       [-0.07692308,  0.14835165]])"
      ]
     },
     "metadata": {},
     "output_type": "display_data"
    },
    {
     "data": {
      "text/plain": [
       "array([[ 0.07692308, -0.07692308],\n",
       "       [-0.07692308,  0.14835165]])"
      ]
     },
     "metadata": {},
     "output_type": "display_data"
    },
    {
     "data": {
      "text/plain": [
       "290.4364965418082"
      ]
     },
     "metadata": {},
     "output_type": "display_data"
    },
    {
     "data": {
      "text/plain": [
       "290.4364965418082"
      ]
     },
     "metadata": {},
     "output_type": "display_data"
    },
    {
     "data": {
      "text/plain": [
       "1.0"
      ]
     },
     "metadata": {},
     "output_type": "display_data"
    },
    {
     "data": {
      "text/plain": [
       "1.0"
      ]
     },
     "metadata": {},
     "output_type": "display_data"
    }
   ],
   "source": [
    "n_samples = 2000\n",
    "rate = np.ones((n_samples,)) * 12\n",
    "sampling_frequency = 1000\n",
    "response = np.random.poisson(rate / sampling_frequency)\n",
    "design_matrix = np.ones((n_samples, 2))\n",
    "design_matrix[:n_samples // 2, 1] = 0\n",
    "\n",
    "fam = families.Poisson()\n",
    "statsmodels_fit = GLM(response, design_matrix, family=fam).fit()\n",
    "(coefficients, is_converged, coefficient_covariance, aic, deviance,\n",
    " effective_degrees_of_freedom, scale) = penalized_IRLS(\n",
    "    design_matrix, response, family=fam)\n",
    "\n",
    "display(statsmodels_fit.params)\n",
    "display(coefficients, is_converged)\n",
    "\n",
    "display(statsmodels_fit.cov_params())\n",
    "display(coefficient_covariance)\n",
    "\n",
    "display(statsmodels_fit.aic)\n",
    "display(aic)\n",
    "\n",
    "display(statsmodels_fit.scale)\n",
    "display(scale)"
   ]
  },
  {
   "cell_type": "code",
   "execution_count": 7,
   "metadata": {},
   "outputs": [
    {
     "data": {
      "text/plain": [
       "array([-4.50986001,  0.37469345])"
      ]
     },
     "metadata": {},
     "output_type": "display_data"
    },
    {
     "data": {
      "text/plain": [
       "array([-4.30630798e+00,  2.48323815e-03])"
      ]
     },
     "metadata": {},
     "output_type": "display_data"
    },
    {
     "data": {
      "text/plain": [
       "True"
      ]
     },
     "metadata": {},
     "output_type": "display_data"
    },
    {
     "data": {
      "text/plain": [
       "array([[ 0.09090909, -0.09090909],\n",
       "       [-0.09090909,  0.15340909]])"
      ]
     },
     "metadata": {},
     "output_type": "display_data"
    },
    {
     "data": {
      "text/plain": [
       "array([[3.70111013e-02, 1.01069887e-03],\n",
       "       [1.01069887e-03, 3.42646031e-05]])"
      ]
     },
     "metadata": {},
     "output_type": "display_data"
    },
    {
     "data": {
      "text/plain": [
       "289.5422499517982"
      ]
     },
     "metadata": {},
     "output_type": "display_data"
    },
    {
     "data": {
      "text/plain": [
       "288.47457694939254"
      ]
     },
     "metadata": {},
     "output_type": "display_data"
    },
    {
     "data": {
      "text/plain": [
       "1.0"
      ]
     },
     "metadata": {},
     "output_type": "display_data"
    },
    {
     "data": {
      "text/plain": [
       "1.0"
      ]
     },
     "metadata": {},
     "output_type": "display_data"
    }
   ],
   "source": [
    "n_samples = 2000\n",
    "rate = np.ones((n_samples,)) * 12\n",
    "sampling_frequency = 1000\n",
    "response = np.random.poisson(rate / sampling_frequency)\n",
    "design_matrix = np.ones((n_samples, 2))\n",
    "design_matrix[:n_samples // 2, 1] = 0\n",
    "\n",
    "fam = families.Poisson()\n",
    "statsmodels_fit = GLM(response, design_matrix, family=fam).fit()\n",
    "\n",
    "penalty = np.array([0, 1E3])\n",
    "\n",
    "(coefficients, is_converged, coefficient_covariance, aic, deviance,\n",
    " effective_degrees_of_freedom, scale) = penalized_IRLS(\n",
    "    design_matrix, response, family=fam, penalty=penalty)\n",
    "\n",
    "display(statsmodels_fit.params)\n",
    "display(coefficients, is_converged)\n",
    "\n",
    "display(statsmodels_fit.cov_params())\n",
    "display(coefficient_covariance)\n",
    "\n",
    "display(statsmodels_fit.aic)\n",
    "display(aic)\n",
    "\n",
    "display(statsmodels_fit.scale)\n",
    "display(scale)"
   ]
  },
  {
   "cell_type": "code",
   "execution_count": 8,
   "metadata": {},
   "outputs": [],
   "source": [
    "def simulate_time(n_samples, sampling_frequency):\n",
    "    return np.arange(n_samples) / sampling_frequency\n",
    "\n",
    "\n",
    "def simulate_linear_distance(time, track_height, running_speed=10):\n",
    "    half_height = (track_height / 2)\n",
    "    return (half_height * np.sin(2 * np.pi * time / running_speed - np.pi / 2)\n",
    "            + half_height)\n",
    "\n",
    "def simulate_poisson_spikes(rate, sampling_frequency):\n",
    "    return 1.0 * (np.random.poisson(rate / sampling_frequency) > 0)\n",
    "\n",
    "\n",
    "def create_place_field(\n",
    "    place_field_mean, linear_distance, sampling_frequency, is_condition=None,\n",
    "        place_field_std_deviation=12.5, max_firing_rate=20,\n",
    "        baseline_firing_rate=0.5):\n",
    "    if is_condition is None:\n",
    "        is_condition = np.ones_like(linear_distance, dtype=bool)\n",
    "    field_firing_rate = scipy.stats.norm(\n",
    "        place_field_mean, place_field_std_deviation).pdf(linear_distance)\n",
    "    field_firing_rate /= field_firing_rate.max()\n",
    "    field_firing_rate[~is_condition] = 0\n",
    "    return baseline_firing_rate + max_firing_rate * field_firing_rate"
   ]
  },
  {
   "cell_type": "code",
   "execution_count": 9,
   "metadata": {},
   "outputs": [],
   "source": [
    "from patsy import build_design_matrices, dmatrices, dmatrix\n",
    "\n",
    "track_height = 170\n",
    "n_samples = sampling_frequency * 65\n",
    "\n",
    "time = simulate_time(n_samples, sampling_frequency)\n",
    "linear_distance = simulate_linear_distance(\n",
    "    time, track_height)\n",
    "\n",
    "place_fields = create_place_field(\n",
    "    100, linear_distance, sampling_frequency)\n",
    "spikes = simulate_poisson_spikes(place_fields, sampling_frequency).T\n",
    "\n",
    "knot_spacing = 15\n",
    "\n",
    "min_distance, max_distance = (linear_distance.min(),\n",
    "                              linear_distance.max())\n",
    "n_steps = (max_distance - min_distance) // knot_spacing\n",
    "position_knots = min_distance + np.arange(1, n_steps) * knot_spacing\n",
    "formula = ('is_spike ~ 1 + cr(linear_distance, knots=position_knots,'\n",
    "           ' constraints=\"center\")')\n",
    "\n",
    "data = {\n",
    "    'is_spike': spikes,\n",
    "    'linear_distance': linear_distance\n",
    "}\n",
    "response, design_matrix = dmatrices(formula, data)\n"
   ]
  },
  {
   "cell_type": "code",
   "execution_count": 10,
   "metadata": {},
   "outputs": [
    {
     "name": "stdout",
     "output_type": "stream",
     "text": [
      "175 ms ± 60.2 ms per loop (mean ± std. dev. of 7 runs, 1 loop each)\n"
     ]
    }
   ],
   "source": [
    "%%timeit\n",
    "\n",
    "penalty = np.ones((design_matrix.shape[1],)) * 1E1\n",
    "penalty[0] = 0.0\n",
    "\n",
    "(coefficients, is_converged, coefficient_covariance, aic, deviance,\n",
    " effective_degrees_of_freedom, scale) = penalized_IRLS(\n",
    "    design_matrix, response.squeeze(), family=families.Poisson(), penalty=penalty)"
   ]
  },
  {
   "cell_type": "code",
   "execution_count": 11,
   "metadata": {},
   "outputs": [
    {
     "name": "stdout",
     "output_type": "stream",
     "text": [
      "2.53 s ± 397 ms per loop (mean ± std. dev. of 7 runs, 1 loop each)\n"
     ]
    }
   ],
   "source": [
    "%%timeit\n",
    "\n",
    "model = GLM(response, design_matrix, family=families.Poisson())\n",
    "\n",
    "penalty = np.ones((design_matrix.shape[1],)) * 1E1\n",
    "penalty[0] = 0.0\n",
    "fit = model.fit_regularized(alpha=penalty, L1_wt=0,\n",
    "                            maxiter=25)"
   ]
  },
  {
   "cell_type": "code",
   "execution_count": null,
   "metadata": {},
   "outputs": [],
   "source": []
  }
 ],
 "metadata": {
  "kernelspec": {
   "display_name": "Python [conda env:regularized_glm]",
   "language": "python",
   "name": "conda-env-regularized_glm-py"
  },
  "language_info": {
   "codemirror_mode": {
    "name": "ipython",
    "version": 3
   },
   "file_extension": ".py",
   "mimetype": "text/x-python",
   "name": "python",
   "nbconvert_exporter": "python",
   "pygments_lexer": "ipython3",
   "version": "3.6.4"
  }
 },
 "nbformat": 4,
 "nbformat_minor": 2
}
